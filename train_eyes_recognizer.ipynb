{
 "cells": [
  {
   "cell_type": "code",
   "execution_count": 1,
   "metadata": {},
   "outputs": [
    {
     "name": "stderr",
     "output_type": "stream",
     "text": [
      "Using TensorFlow backend.\n"
     ]
    }
   ],
   "source": [
    "import keras\n",
    "from keras.models import Sequential\n",
    "from keras.layers import Dense, Dropout, Flatten\n",
    "from keras.layers import Conv2D, MaxPooling2D\n",
    "from tensorflow.keras.preprocessing.image import ImageDataGenerator\n",
    "from keras import backend as K"
   ]
  },
  {
   "cell_type": "code",
   "execution_count": 2,
   "metadata": {},
   "outputs": [
    {
     "name": "stdout",
     "output_type": "stream",
     "text": [
      "Found 784 images belonging to 8 classes.\n",
      "Found 784 images belonging to 8 classes.\n",
      "Epoch 1/15\n",
      "2000/2000 [==============================] - 496s 248ms/step - loss: 0.0993 - accuracy: 0.9648 - val_loss: 5.8032e-04 - val_accuracy: 0.9987\n",
      "Epoch 2/15\n",
      "2000/2000 [==============================] - 10387s 5s/step - loss: 0.0093 - accuracy: 0.9969 - val_loss: 1.8394e-04 - val_accuracy: 1.0000\n",
      "Epoch 3/15\n",
      "2000/2000 [==============================] - 468s 234ms/step - loss: 0.0066 - accuracy: 0.9981 - val_loss: 1.8626e-09 - val_accuracy: 1.0000\n",
      "Epoch 4/15\n",
      "2000/2000 [==============================] - 467s 234ms/step - loss: 0.0055 - accuracy: 0.9983 - val_loss: 0.0000e+00 - val_accuracy: 1.0000\n",
      "Epoch 5/15\n",
      "2000/2000 [==============================] - 466s 233ms/step - loss: 0.0041 - accuracy: 0.9989 - val_loss: 1.1176e-08 - val_accuracy: 1.0000\n",
      "Epoch 6/15\n",
      "2000/2000 [==============================] - 467s 234ms/step - loss: 0.0044 - accuracy: 0.9989 - val_loss: 0.0000e+00 - val_accuracy: 1.0000\n",
      "Epoch 7/15\n",
      "2000/2000 [==============================] - 466s 233ms/step - loss: 0.0034 - accuracy: 0.9991 - val_loss: 0.0000e+00 - val_accuracy: 1.0000\n",
      "Epoch 8/15\n",
      "2000/2000 [==============================] - 466s 233ms/step - loss: 0.0029 - accuracy: 0.9992 - val_loss: 4.6291e-05 - val_accuracy: 1.0000\n",
      "Epoch 9/15\n",
      "2000/2000 [==============================] - 467s 233ms/step - loss: 0.0029 - accuracy: 0.9993 - val_loss: 0.0000e+00 - val_accuracy: 1.0000\n",
      "Epoch 10/15\n",
      "2000/2000 [==============================] - 468s 234ms/step - loss: 0.0037 - accuracy: 0.9992 - val_loss: 0.0000e+00 - val_accuracy: 1.0000\n",
      "Epoch 11/15\n",
      "2000/2000 [==============================] - 477s 239ms/step - loss: 0.0025 - accuracy: 0.9995 - val_loss: 0.0000e+00 - val_accuracy: 1.0000\n",
      "Epoch 12/15\n",
      "2000/2000 [==============================] - 471s 236ms/step - loss: 0.0026 - accuracy: 0.9995 - val_loss: 0.0000e+00 - val_accuracy: 1.0000\n",
      "Epoch 13/15\n",
      "2000/2000 [==============================] - 489s 244ms/step - loss: 0.0026 - accuracy: 0.9994 - val_loss: 0.0000e+00 - val_accuracy: 1.0000\n",
      "Epoch 14/15\n",
      "2000/2000 [==============================] - 461s 230ms/step - loss: 9.3688e-04 - accuracy: 0.9998 - val_loss: 0.0000e+00 - val_accuracy: 1.0000\n",
      "Epoch 15/15\n",
      "2000/2000 [==============================] - 463s 232ms/step - loss: 0.0020 - accuracy: 0.9996 - val_loss: 0.0000e+00 - val_accuracy: 1.0000\n",
      "Model succesfully trained\n",
      "weights correctly saved\n"
     ]
    }
   ],
   "source": [
    "train_url = './data/train'\n",
    "test_url = './data/test'\n",
    "\n",
    "train_datagen = ImageDataGenerator(\n",
    "    rescale=1. / 255,\n",
    "    shear_range=0.2,\n",
    "    zoom_range=0.2,\n",
    "    horizontal_flip=True)\n",
    "\n",
    "test_datagen = ImageDataGenerator(rescale=1. / 255)\n",
    "\n",
    "train_generator = train_datagen.flow_from_directory(\n",
    "            train_url,\n",
    "            target_size=(28, 28),\n",
    "            color_mode='grayscale',\n",
    "            batch_size=64,\n",
    "            class_mode='categorical')\n",
    "\n",
    "validation_generator = test_datagen.flow_from_directory(\n",
    "            test_url,\n",
    "            target_size=(28, 28),\n",
    "            color_mode='grayscale',\n",
    "            batch_size=64,\n",
    "            class_mode='categorical')\n",
    "\n",
    "batch_size = 64\n",
    "input_shape = (28, 28, 1)\n",
    "\n",
    "model = Sequential()\n",
    "model.add(Conv2D(32, kernel_size=(3, 3), activation='relu',input_shape=input_shape))\n",
    "model.add(Conv2D(64, (3, 3), activation='relu'))\n",
    "model.add(MaxPooling2D(pool_size=(2, 2)))\n",
    "model.add(Dropout(0.25))\n",
    "model.add(Flatten())\n",
    "model.add(Dense(256, activation='relu'))\n",
    "model.add(Dropout(0.5))\n",
    "model.add(Dense(8, activation='softmax'))\n",
    "\n",
    "model.compile(loss=keras.losses.categorical_crossentropy,\n",
    "              optimizer='rmsprop',\n",
    "              metrics=['accuracy'])\n",
    "\n",
    "model.fit(\n",
    "    train_generator,\n",
    "    steps_per_epoch=2000,\n",
    "    epochs=15,\n",
    "    validation_data=validation_generator,\n",
    "    validation_steps=1000)\n",
    "print('Model succesfully trained')\n",
    "\n",
    "model.save('weights.h5')\n",
    "print('weights correctly saved')"
   ]
  },
  {
   "cell_type": "code",
   "execution_count": null,
   "metadata": {
    "scrolled": true
   },
   "outputs": [],
   "source": []
  },
  {
   "cell_type": "code",
   "execution_count": null,
   "metadata": {},
   "outputs": [],
   "source": []
  }
 ],
 "metadata": {
  "kernelspec": {
   "display_name": "Python 3.7.7 64-bit ('tensorflow': conda)",
   "language": "python",
   "name": "python37764bittensorflowconda98047a952bbb43fd902895981d54e0a2"
  },
  "language_info": {
   "codemirror_mode": {
    "name": "ipython",
    "version": 3
   },
   "file_extension": ".py",
   "mimetype": "text/x-python",
   "name": "python",
   "nbconvert_exporter": "python",
   "pygments_lexer": "ipython3",
   "version": "3.7.7"
  }
 },
 "nbformat": 4,
 "nbformat_minor": 4
}
