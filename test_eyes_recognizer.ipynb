{
 "cells": [
  {
   "cell_type": "code",
   "execution_count": 1,
   "metadata": {},
   "outputs": [
    {
     "name": "stderr",
     "output_type": "stream",
     "text": [
      "Using TensorFlow backend.\n"
     ]
    }
   ],
   "source": [
    "from keras.models import load_model\n",
    "from tkinter import *\n",
    "import tkinter as tk\n",
    "import PIL\n",
    "import win32gui\n",
    "from PIL import ImageGrab, Image, ImageTk\n",
    "import numpy as np\n",
    "import cv2\n",
    "import os\n",
    "from os import listdir\n",
    "from os.path import isfile, isdir\n",
    "import Pmw, sys\n",
    "import threading"
   ]
  },
  {
   "cell_type": "code",
   "execution_count": 2,
   "metadata": {},
   "outputs": [],
   "source": [
    "\n",
    "face_cascade = cv2.CascadeClassifier(r'C:\\Users\\cauhe\\AppData\\Local\\Programs\\Python\\Python37-32\\Lib\\site-packages\\cv2\\data\\haarcascade_frontalface_default.xml')\n",
    "eye_cascade = cv2.CascadeClassifier(r'C:\\Users\\cauhe\\AppData\\Local\\Programs\\Python\\Python37-32\\Lib\\site-packages\\cv2\\data\\haarcascade_eye.xml')\n",
    "\n",
    "cap = cv2.VideoCapture(0)\n",
    "\n",
    "def make_zoom():\n",
    "    ret, frame = cap.read()\n",
    "    gray = cv2.cvtColor(frame, cv2.COLOR_BGR2GRAY)\n",
    "    faces = face_cascade.detectMultiScale(gray, 1.3, 5)\n",
    "\n",
    "    for (x,y,w,h) in faces:\n",
    "        roi_gray = gray[y:y+h, x:x+w]\n",
    "        roi_color = frame[y:y+h, x:x+w]\n",
    "\n",
    "        eyes = eye_cascade.detectMultiScale(roi_gray)\n",
    "        for (ex,ey,ew,eh) in eyes:\n",
    "            eyes = cv2.rectangle(roi_gray,(ex,ey),(ex+ew,ey+eh),(255,255,255),1)\n",
    "            clone = eyes.copy()\n",
    "            img_final = clone[ey:ey+eh,ex:ex+ew]\n",
    "            img_final = cv2.resize(img_final,None,fx=9, fy=10, interpolation = cv2.INTER_LINEAR)\n",
    "            img_final = cv2.medianBlur(img_final,5)\n",
    "            cv2.imshow('img', img_final)\n",
    "            cv2.imwrite('Eye.png', img_final)"
   ]
  },
  {
   "cell_type": "code",
   "execution_count": 3,
   "metadata": {},
   "outputs": [],
   "source": [
    "model = load_model('weights.h5')\n",
    "categories = ['abajo', 'abajo-derecha', 'arriba', 'arriba-derecha', 'arriba-izquierda', 'centro', 'derecha', 'izquierda']\n",
    "\n",
    "def prepare(filepath):\n",
    "    img_array = cv2.imread(filepath, cv2.IMREAD_GRAYSCALE)  \n",
    "    new_array = cv2.resize(img_array, (28, 28))  \n",
    "    return new_array.reshape(1, 28, 28, 1)\n",
    "\n",
    "def show_label(cat):\n",
    "    if cat in categories:\n",
    "        label = tk.Label(bg='yellow', width=50, height=20)\n",
    "        if 'abajo' in cat:\n",
    "            label.place(x=400, y=300, anchor='s')\n",
    "            \n",
    "        elif 'arriba' in cat:\n",
    "            label.place(x=400, y=0, anchor='n')\n",
    "            \n",
    "        else:\n",
    "            if 'izquierda' in cat:\n",
    "                label.place(x=0, y=150, anchor='w')\n",
    "                \n",
    "            if 'derecha' in cat:\n",
    "                label.place(x=800, y=150, anchor='e')\n",
    "                \n",
    "            else:\n",
    "                label.place(x=400, y=150)\n",
    "            \n",
    "    \n",
    "    \n",
    "width, height = 800, 300\n",
    "cap = cv2.VideoCapture(0)\n",
    "cap.set(cv2.CAP_PROP_FRAME_WIDTH, width)\n",
    "cap.set(cv2.CAP_PROP_FRAME_HEIGHT, height)\n",
    "\n",
    "root = tk.Tk()\n",
    "\n",
    "root.bind('<Escape>', lambda e: root.quit())\n",
    "root.title('Video')\n",
    "lmain = tk.Label(root)\n",
    "lmain.pack()\n",
    "\n",
    "def make_prediction():\n",
    "    make_zoom()\n",
    "    prediction = model.predict([prepare('Eye.png')])\n",
    "\n",
    "    show_pred = np.argmax(prediction, axis=1)\n",
    "    cat = categorias[show_pred[0]]\n",
    "    #show_cat = tk.Label(text=cat)\n",
    "    #show_cat.pack()\n",
    "    show_label(cat)\n",
    "\n",
    "\n",
    "filename = 'hello.txt'\n",
    "top = Frame(root); top.pack(side='top')\n",
    "text = Pmw.ScrolledText(top)\n",
    "text.insert('end', open(filename,'r').read())\n",
    "text.pack()\n",
    "def show_text():\n",
    "    make_prediction()\n",
    "    lmain.after(2000, show_text)\n",
    "    \n",
    "show_text()\n",
    "root.mainloop()\n"
   ]
  },
  {
   "cell_type": "code",
   "execution_count": null,
   "metadata": {},
   "outputs": [],
   "source": []
  }
 ],
 "metadata": {
  "kernelspec": {
   "display_name": "Python 3.7.7 64-bit ('tensorflow': conda)",
   "language": "python",
   "name": "python37764bittensorflowconda98047a952bbb43fd902895981d54e0a2"
  },
  "language_info": {
   "codemirror_mode": {
    "name": "ipython",
    "version": 3
   },
   "file_extension": ".py",
   "mimetype": "text/x-python",
   "name": "python",
   "nbconvert_exporter": "python",
   "pygments_lexer": "ipython3",
   "version": "3.7.7"
  }
 },
 "nbformat": 4,
 "nbformat_minor": 4
}
